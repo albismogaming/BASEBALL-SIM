{
 "cells": [
  {
   "cell_type": "code",
   "execution_count": 2,
   "metadata": {},
   "outputs": [
    {
     "name": "stdout",
     "output_type": "stream",
     "text": [
      "0.0016472\n"
     ]
    }
   ],
   "source": [
    "import numpy as np\n",
    "\n",
    "def calculated_base_probability(batter_prob, pitcher_prob, league_avg):\n",
    "    bc = np.sqrt(league_avg * (1 - batter_prob))\n",
    "    pc = np.sqrt(league_avg * (1 - pitcher_prob))\n",
    "    lc = np.sqrt(league_avg * (1 - league_avg))\n",
    "    eu = np.sqrt(np.e)\n",
    "    m = 1/(np.sqrt(2.3)**(1/0.07))\n",
    "    n = (league_avg - m)\n",
    "    p = np.sqrt(n * (np.e ** lc))\n",
    "\n",
    "    batter = ((batter_prob - league_avg) / pc)\n",
    "    pitcher = ((pitcher_prob - league_avg) / bc)\n",
    "    combined = ((batter + pitcher) / eu)\n",
    "\n",
    "    probability = ((combined * p) + league_avg)\n",
    "    return np.clip(probability, 0, 1)  # Ensure probability is between \n",
    "\n",
    "\n",
    "\n",
    "batter = 0\n",
    "pitcher = 0\n",
    "league = 0.003\n",
    "\n",
    "\n",
    "print(f'{calculated_base_probability(batter, pitcher, league):.7f}')"
   ]
  },
  {
   "cell_type": "code",
   "execution_count": 4,
   "metadata": {},
   "outputs": [],
   "source": [
    "import json\n",
    "import pandas as pd\n",
    "from FILE_PATHS import *\n",
    "\n",
    "path = PBP_SEQUENCE\n",
    "\n",
    "# Load JSON file\n",
    "json_file = f\"{path}PITCH_LENGTHS.json\"\n",
    "\n",
    "with open(json_file, \"r\", encoding=\"utf-8\") as file:\n",
    "    pitch_data = json.load(file)\n",
    "\n",
    "# Convert JSON to a structured list for pandas DataFrame\n",
    "data = []\n",
    "for outcome, lengths in pitch_data.items():\n",
    "    for pitch_length, probability in lengths.items():\n",
    "        data.append({\"outcome\": outcome, \"pitch_length\": int(pitch_length), \"probability\": probability})\n",
    "\n",
    "# Convert to DataFrame\n",
    "df = pd.DataFrame(data)\n",
    "\n",
    "# Save to CSV\n",
    "csv_path = \"LENGTHS.csv\"\n",
    "df.to_csv(csv_path, index=False, encoding=\"utf-8-sig\")\n"
   ]
  },
  {
   "cell_type": "code",
   "execution_count": 34,
   "metadata": {},
   "outputs": [
    {
     "name": "stdout",
     "output_type": "stream",
     "text": [
      "💩\n",
      "A\n",
      "0.0\n"
     ]
    }
   ],
   "source": [
    "import time \n",
    "\n",
    "\n",
    "def get_grade(grade):\n",
    "    print(\"💩\")\n",
    "    if grade >= 90: return 'A'\n",
    "    if grade >= 80: return 'B'\n",
    "    if grade >= 70: return 'C'\n",
    "    if grade >= 60: return 'D'\n",
    "    if grade >= 0: return 'F'\n",
    "\n",
    "s = time.time()\n",
    "print(get_grade(90))\n",
    "f = time.time()\n",
    "print(f - s)"
   ]
  },
  {
   "cell_type": "code",
   "execution_count": 2,
   "metadata": {},
   "outputs": [
    {
     "name": "stdout",
     "output_type": "stream",
     "text": [
      "FUCK!!!!!\n"
     ]
    }
   ],
   "source": [
    "def swear_word(word: str):\n",
    "    return f\"{word}!!!!!\"\n",
    "\n",
    "\n",
    "\n",
    "print(swear_word(\"FUCK\"))"
   ]
  }
 ],
 "metadata": {
  "kernelspec": {
   "display_name": "Python 3",
   "language": "python",
   "name": "python3"
  },
  "language_info": {
   "codemirror_mode": {
    "name": "ipython",
    "version": 3
   },
   "file_extension": ".py",
   "mimetype": "text/x-python",
   "name": "python",
   "nbconvert_exporter": "python",
   "pygments_lexer": "ipython3",
   "version": "3.11.9"
  }
 },
 "nbformat": 4,
 "nbformat_minor": 2
}
